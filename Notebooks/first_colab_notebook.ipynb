{
 "cells": [
  {
   "cell_type": "markdown",
   "id": "c18fcf8f",
   "metadata": {},
   "source": [
    "# Photo Selector or Creator - Colab Notebook\n",
    "\n",
    "This notebook is used to test and demonstrate how we use ML and DL to select or enhance images.\n"
   ]
  },
  {
   "cell_type": "code",
   "execution_count": null,
   "id": "ad702750",
   "metadata": {},
   "outputs": [],
   "source": [
    "import numpy as np\n",
    "import cv2\n",
    "import torch\n",
    "import tensorflow as tf\n",
    "from sklearn.model_selection import train_test_split\n"
   ]
  }
 ],
 "metadata": {
  "kernelspec": {
   "display_name": ".venv",
   "language": "python",
   "name": "python3"
  },
  "language_info": {
   "name": "python",
   "version": "3.9.6"
  }
 },
 "nbformat": 4,
 "nbformat_minor": 5
}
